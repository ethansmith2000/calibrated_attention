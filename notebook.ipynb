{
 "cells": [
  {
   "cell_type": "code",
   "execution_count": 1,
   "metadata": {},
   "outputs": [],
   "source": [
    "from attentions import AttentionBase, AttentionRelativeScaling1, AttentionRelativeScaling2, AttentionYarnScaling, AttentionPolyFitScaling, AttentionLearnedScaling, AttentionSoftmaxPlusOne, AttentionSoftmaxPlusFN\n",
    "import torch\n"
   ]
  },
  {
   "cell_type": "code",
   "execution_count": 3,
   "metadata": {},
   "outputs": [],
   "source": [
    "dim = 512\n",
    "heads = 8\n",
    "\n",
    "attn_base = AttentionBase(dim=dim, heads=heads)\n",
    "attn_relative_scaling_1 = AttentionRelativeScaling1(dim=dim, heads=heads)\n",
    "attn_relative_scaling_2 = AttentionRelativeScaling2(dim=dim, heads=heads)\n",
    "attn_yarn_scaling = AttentionYarnScaling(dim=dim, heads=heads)\n",
    "attn_poly_fit_scaling = AttentionPolyFitScaling(dim=dim, heads=heads)\n",
    "attn_learned_scaling = AttentionLearnedScaling(dim=dim, heads=heads)\n",
    "attn_softmax_plus_one = AttentionSoftmaxPlusOne(dim=dim, heads=heads)\n",
    "attn_softmax_plus_fn = AttentionSoftmaxPlusFN(dim=dim, heads=heads)\n",
    "\n",
    "x = torch.randn(1, 128, dim)\n",
    "\n",
    "out_base = attn_base(x)\n",
    "out_relative_scaling_1 = attn_relative_scaling_1(x)\n",
    "out_relative_scaling_2 = attn_relative_scaling_2(x)\n",
    "out_yarn_scaling = attn_yarn_scaling(x)\n",
    "out_poly_fit_scaling = attn_poly_fit_scaling(x)\n",
    "out_learned_scaling = attn_learned_scaling(x)\n",
    "out_softmax_plus_one = attn_softmax_plus_one(x)\n",
    "out_softmax_plus_fn = attn_softmax_plus_fn(x)\n",
    "\n",
    "\n",
    "\n"
   ]
  },
  {
   "cell_type": "code",
   "execution_count": null,
   "metadata": {},
   "outputs": [],
   "source": []
  }
 ],
 "metadata": {
  "kernelspec": {
   "display_name": "Python 3",
   "language": "python",
   "name": "python3"
  },
  "language_info": {
   "codemirror_mode": {
    "name": "ipython",
    "version": 3
   },
   "file_extension": ".py",
   "mimetype": "text/x-python",
   "name": "python",
   "nbconvert_exporter": "python",
   "pygments_lexer": "ipython3",
   "version": "3.10.12"
  }
 },
 "nbformat": 4,
 "nbformat_minor": 2
}
